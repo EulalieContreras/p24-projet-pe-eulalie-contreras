{
 "cells": [
  {
   "cell_type": "markdown",
   "id": "02e00cfa-d6d1-4a88-b708-7c1af42d189d",
   "metadata": {},
   "source": [
    "# Cities"
   ]
  },
  {
   "cell_type": "code",
   "execution_count": 2,
   "id": "ccf877bb-737e-438e-884e-aaf51aadb4ee",
   "metadata": {},
   "outputs": [],
   "source": [
    "import numpy as np\n",
    "import pandas as pd\n",
    "import matplotlib.pyplot as plt"
   ]
  },
  {
   "cell_type": "code",
   "execution_count": 3,
   "id": "5c80c785-90ea-4a34-95b7-370862f8528a",
   "metadata": {},
   "outputs": [
    {
     "data": {
      "text/html": [
       "<div>\n",
       "<style scoped>\n",
       "    .dataframe tbody tr th:only-of-type {\n",
       "        vertical-align: middle;\n",
       "    }\n",
       "\n",
       "    .dataframe tbody tr th {\n",
       "        vertical-align: top;\n",
       "    }\n",
       "\n",
       "    .dataframe thead th {\n",
       "        text-align: right;\n",
       "    }\n",
       "</style>\n",
       "<table border=\"1\" class=\"dataframe\">\n",
       "  <thead>\n",
       "    <tr style=\"text-align: right;\">\n",
       "      <th></th>\n",
       "      <th>city_name</th>\n",
       "      <th>country</th>\n",
       "      <th>state</th>\n",
       "      <th>iso2</th>\n",
       "      <th>iso3</th>\n",
       "      <th>latitude</th>\n",
       "      <th>longitude</th>\n",
       "    </tr>\n",
       "    <tr>\n",
       "      <th>station_id</th>\n",
       "      <th></th>\n",
       "      <th></th>\n",
       "      <th></th>\n",
       "      <th></th>\n",
       "      <th></th>\n",
       "      <th></th>\n",
       "      <th></th>\n",
       "    </tr>\n",
       "  </thead>\n",
       "  <tbody>\n",
       "    <tr>\n",
       "      <th>41515</th>\n",
       "      <td>Asadabad</td>\n",
       "      <td>Afghanistan</td>\n",
       "      <td>Kunar</td>\n",
       "      <td>AF</td>\n",
       "      <td>AFG</td>\n",
       "      <td>34.866000</td>\n",
       "      <td>71.150005</td>\n",
       "    </tr>\n",
       "    <tr>\n",
       "      <th>38954</th>\n",
       "      <td>Fayzabad</td>\n",
       "      <td>Afghanistan</td>\n",
       "      <td>Badakhshan</td>\n",
       "      <td>AF</td>\n",
       "      <td>AFG</td>\n",
       "      <td>37.129761</td>\n",
       "      <td>70.579247</td>\n",
       "    </tr>\n",
       "    <tr>\n",
       "      <th>41560</th>\n",
       "      <td>Jalalabad</td>\n",
       "      <td>Afghanistan</td>\n",
       "      <td>Nangarhar</td>\n",
       "      <td>AF</td>\n",
       "      <td>AFG</td>\n",
       "      <td>34.441527</td>\n",
       "      <td>70.436103</td>\n",
       "    </tr>\n",
       "    <tr>\n",
       "      <th>38947</th>\n",
       "      <td>Kunduz</td>\n",
       "      <td>Afghanistan</td>\n",
       "      <td>Kunduz</td>\n",
       "      <td>AF</td>\n",
       "      <td>AFG</td>\n",
       "      <td>36.727951</td>\n",
       "      <td>68.872530</td>\n",
       "    </tr>\n",
       "    <tr>\n",
       "      <th>38987</th>\n",
       "      <td>Qala i Naw</td>\n",
       "      <td>Afghanistan</td>\n",
       "      <td>Badghis</td>\n",
       "      <td>AF</td>\n",
       "      <td>AFG</td>\n",
       "      <td>34.983000</td>\n",
       "      <td>63.133300</td>\n",
       "    </tr>\n",
       "  </tbody>\n",
       "</table>\n",
       "</div>"
      ],
      "text/plain": [
       "             city_name      country       state iso2 iso3   latitude  \\\n",
       "station_id                                                             \n",
       "41515         Asadabad  Afghanistan       Kunar   AF  AFG  34.866000   \n",
       "38954         Fayzabad  Afghanistan  Badakhshan   AF  AFG  37.129761   \n",
       "41560        Jalalabad  Afghanistan   Nangarhar   AF  AFG  34.441527   \n",
       "38947           Kunduz  Afghanistan      Kunduz   AF  AFG  36.727951   \n",
       "38987       Qala i Naw  Afghanistan     Badghis   AF  AFG  34.983000   \n",
       "\n",
       "            longitude  \n",
       "station_id             \n",
       "41515       71.150005  \n",
       "38954       70.579247  \n",
       "41560       70.436103  \n",
       "38947       68.872530  \n",
       "38987       63.133300  "
      ]
     },
     "execution_count": 3,
     "metadata": {},
     "output_type": "execute_result"
    }
   ],
   "source": [
    "df = pd.read_csv('p24-projet-pe-groupe-8/cities.csv', index_col='station_id')\n",
    "df.head()"
   ]
  },
  {
   "cell_type": "markdown",
   "id": "a82149c7-c837-482a-a0c1-1019e7c3bbe0",
   "metadata": {},
   "source": [
    "## Données générales sur la table "
   ]
  },
  {
   "cell_type": "code",
   "execution_count": 4,
   "id": "2bfbb8a2-89ea-457a-8e96-79298a52014a",
   "metadata": {},
   "outputs": [
    {
     "name": "stdout",
     "output_type": "stream",
     "text": [
      "2\n",
      "(1245, 7)\n",
      "Index(['city_name', 'country', 'state', 'iso2', 'iso3', 'latitude',\n",
      "       'longitude'],\n",
      "      dtype='object')\n"
     ]
    }
   ],
   "source": [
    "print(df.ndim)\n",
    "print(df.shape)\n",
    "print(df.columns)"
   ]
  },
  {
   "cell_type": "markdown",
   "id": "1bd97d6c-8578-49b7-a203-1a424056c2ae",
   "metadata": {},
   "source": [
    "Il y a donc 1245 ville étudiée selon 7 critères: le nom, le pays, l'état, le code iso2 et iso3 du pays, la latitude et la longitude."
   ]
  },
  {
   "cell_type": "code",
   "execution_count": 5,
   "id": "cb2d4b70-03b0-4836-a649-282ce188f91b",
   "metadata": {},
   "outputs": [
    {
     "data": {
      "text/html": [
       "<div>\n",
       "<style scoped>\n",
       "    .dataframe tbody tr th:only-of-type {\n",
       "        vertical-align: middle;\n",
       "    }\n",
       "\n",
       "    .dataframe tbody tr th {\n",
       "        vertical-align: top;\n",
       "    }\n",
       "\n",
       "    .dataframe thead th {\n",
       "        text-align: right;\n",
       "    }\n",
       "</style>\n",
       "<table border=\"1\" class=\"dataframe\">\n",
       "  <thead>\n",
       "    <tr style=\"text-align: right;\">\n",
       "      <th></th>\n",
       "      <th>latitude</th>\n",
       "      <th>longitude</th>\n",
       "    </tr>\n",
       "  </thead>\n",
       "  <tbody>\n",
       "    <tr>\n",
       "      <th>count</th>\n",
       "      <td>1245.000000</td>\n",
       "      <td>1245.000000</td>\n",
       "    </tr>\n",
       "    <tr>\n",
       "      <th>mean</th>\n",
       "      <td>23.729983</td>\n",
       "      <td>20.782440</td>\n",
       "    </tr>\n",
       "    <tr>\n",
       "      <th>std</th>\n",
       "      <td>25.996144</td>\n",
       "      <td>66.268905</td>\n",
       "    </tr>\n",
       "    <tr>\n",
       "      <th>min</th>\n",
       "      <td>-54.790003</td>\n",
       "      <td>-176.174022</td>\n",
       "    </tr>\n",
       "    <tr>\n",
       "      <th>25%</th>\n",
       "      <td>8.099982</td>\n",
       "      <td>-6.755003</td>\n",
       "    </tr>\n",
       "    <tr>\n",
       "      <th>50%</th>\n",
       "      <td>31.611105</td>\n",
       "      <td>23.237002</td>\n",
       "    </tr>\n",
       "    <tr>\n",
       "      <th>75%</th>\n",
       "      <td>43.699980</td>\n",
       "      <td>63.628302</td>\n",
       "    </tr>\n",
       "    <tr>\n",
       "      <th>max</th>\n",
       "      <td>78.216684</td>\n",
       "      <td>179.216647</td>\n",
       "    </tr>\n",
       "  </tbody>\n",
       "</table>\n",
       "</div>"
      ],
      "text/plain": [
       "          latitude    longitude\n",
       "count  1245.000000  1245.000000\n",
       "mean     23.729983    20.782440\n",
       "std      25.996144    66.268905\n",
       "min     -54.790003  -176.174022\n",
       "25%       8.099982    -6.755003\n",
       "50%      31.611105    23.237002\n",
       "75%      43.699980    63.628302\n",
       "max      78.216684   179.216647"
      ]
     },
     "execution_count": 5,
     "metadata": {},
     "output_type": "execute_result"
    }
   ],
   "source": [
    "df.describe()"
   ]
  },
  {
   "cell_type": "code",
   "execution_count": 6,
   "id": "8a31a24b-6f4b-4883-8a39-16734582c09a",
   "metadata": {},
   "outputs": [
    {
     "name": "stdout",
     "output_type": "stream",
     "text": [
      "On étudie 216 pays différents :\n",
      "['Afghanistan' 'Albania' 'Algeria' 'American Samoa' 'Andorra' 'Angola'\n",
      " 'Anguilla' 'Antigua and Barbuda' 'Argentina' 'Armenia' 'Aruba'\n",
      " 'Australia' 'Austria' 'Azerbaijan' 'Bahrain' 'Bangladesh' 'Belarus'\n",
      " 'Belgium' 'Belize' 'Benin' 'Bermuda' 'Bhutan' 'Bolivia'\n",
      " 'Bosnia and Herzegovina' 'Botswana' 'Brazil' 'Brunei' 'Bulgaria'\n",
      " 'Burkina Faso' 'Burundi' 'Cambodia' 'Cameroon' 'Canada' 'Cape Verde'\n",
      " 'Cayman Islands' 'Central African Republic' 'Chad' 'Chile' 'China'\n",
      " 'Christmas Island' 'Colombia' 'Comoros' 'Congo (Brazzaville)'\n",
      " 'Congo (Kinshasa)' 'Cook Islands' 'Costa Rica' 'Croatia' 'Cuba' 'Cyprus'\n",
      " 'Czech Republic' 'Denmark' 'Djibouti' 'Dominica' 'Dominican Republic'\n",
      " 'East Timor' 'Ecuador' 'Egypt' 'El Salvador' 'Equatorial Guinea'\n",
      " 'Estonia' 'Ethiopia' 'Falkland Islands' 'Fiji' 'Finland' 'France'\n",
      " 'French Guiana' 'French Polynesia' 'French Southern and Antarctic Lands'\n",
      " 'Gabon' 'Georgia' 'Germany' 'Ghana' 'Gibraltar' 'Greece' 'Greenland'\n",
      " 'Grenada' 'Guam' 'Guatemala' 'Guernsey' 'Guinea' 'Guinea Bissau' 'Guyana'\n",
      " 'Haiti' 'Honduras' 'Hong Kong' 'Hungary' 'Iceland' 'India' 'Indonesia'\n",
      " 'Iran' 'Iraq' 'Ireland' 'Isle of Man' 'Israel' 'Italy' 'Ivory Coast'\n",
      " 'Jamaica' 'Japan' 'Jersey' 'Jordan' 'Kazakhstan' 'Kenya' 'Kiribati'\n",
      " 'Kuwait' 'Kyrgyzstan' 'Laos' 'Latvia' 'Lebanon' 'Lesotho' 'Liberia'\n",
      " 'Libya' 'Liechtenstein' 'Lithuania' 'Luxembourg' 'Macau S.A.R'\n",
      " 'Macedonia' 'Madagascar' 'Malawi' 'Malaysia' 'Maldives' 'Mali' 'Malta'\n",
      " 'Marshall Islands' 'Mauritania' 'Mauritius' 'Mayotte' 'Mexico' 'Moldova'\n",
      " 'Monaco' 'Mongolia' 'Montenegro' 'Montserrat' 'Morocco' 'Mozambique'\n",
      " 'Myanmar' 'Namibia' 'Nepal' 'Netherlands' 'New Zealand' 'Nicaragua'\n",
      " 'Niger' 'Nigeria' 'Norfolk Island' 'North Korea'\n",
      " 'Northern Mariana Islands' 'Norway' 'Oman' 'Pakistan' 'Papua New Guinea'\n",
      " 'Paraguay' 'Peru' 'Philippines' 'Poland' 'Portugal' 'Puerto Rico' 'Qatar'\n",
      " 'Romania' 'Russia' 'Rwanda' 'Réunion' 'Saint Helena'\n",
      " 'Saint Kitts and Nevis' 'Saint Pierre and Miquelon' 'Samoa' 'San Marino'\n",
      " 'Saudi Arabia' 'Senegal' 'Serbia' 'Seychelles' 'Sierra Leone' 'Singapore'\n",
      " 'Slovakia' 'Slovenia' 'Solomon Islands' 'Somalia' 'South Africa'\n",
      " 'South Georgia' 'South Korea' 'South Sudan' 'Spain' 'Sri Lanka' 'Sudan'\n",
      " 'Suriname' 'Svalbard and Jan Mayen Islands' 'Swaziland' 'Sweden'\n",
      " 'Switzerland' 'Syria' 'São Tomé and Príncipe' 'Taiwan' 'Tajikistan'\n",
      " 'Tanzania' 'Thailand' 'The Bahamas' 'The Gambia' 'Togo'\n",
      " 'Trinidad and Tobago' 'Tunisia' 'Turkey' 'Turkmenistan' 'Tuvalu' 'Uganda'\n",
      " 'Ukraine' 'United Arab Emirates' 'United Kingdom'\n",
      " 'United States of America' 'Uruguay' 'Uzbekistan' 'Vanuatu' 'Venezuela'\n",
      " 'Vietnam' 'Wallis and Futuna' 'Western Sahara' 'Yemen' 'Zambia'\n",
      " 'Zimbabwe']\n"
     ]
    }
   ],
   "source": [
    "print(f'On étudie {len(df['country'].unique())} pays différents :')\n",
    "print(df['country'].unique())"
   ]
  },
  {
   "cell_type": "code",
   "execution_count": 7,
   "id": "9ff0aad9-f462-4ca5-9b51-9db8f510c59d",
   "metadata": {},
   "outputs": [
    {
     "name": "stdout",
     "output_type": "stream",
     "text": [
      "on étudie 216 pays différents\n",
      "on étudie toujours 216 pays différents\n"
     ]
    }
   ],
   "source": [
    "print(f'on étudie {len(df['iso2'].unique())} pays différents')\n",
    "print(f'on étudie toujours {len(df['iso3'].unique())} pays différents') #ça donne bien la même chose"
   ]
  },
  {
   "cell_type": "code",
   "execution_count": 8,
   "id": "2e41bdda-5034-4841-82cf-4a258e71b23d",
   "metadata": {},
   "outputs": [
    {
     "data": {
      "text/plain": [
       "country\n",
       "Russia                      77\n",
       "United States of America    49\n",
       "Turkey                      44\n",
       "Thailand                    38\n",
       "India                       29\n",
       "                            ..\n",
       "Tuvalu                       1\n",
       "Wallis and Futuna            1\n",
       "Vanuatu                      1\n",
       "Yemen                        1\n",
       "Western Sahara               1\n",
       "Name: count, Length: 216, dtype: int64"
      ]
     },
     "execution_count": 8,
     "metadata": {},
     "output_type": "execute_result"
    }
   ],
   "source": [
    "df['country'].value_counts() #plus précisemment le nombre de ville par pays"
   ]
  },
  {
   "cell_type": "code",
   "execution_count": 9,
   "id": "8b128a3a-e9cb-4723-ab28-c1425608380b",
   "metadata": {},
   "outputs": [
    {
     "data": {
      "text/plain": [
       "state                   country    \n",
       "Ciudad de Buenos Aires  Argentina      3\n",
       "Addis Ababa             Ethiopia       3\n",
       "Fukuoka                 Japan          2\n",
       "Krasnoyarsk             Russia         2\n",
       "Dadra and Nagar Haveli  India          2\n",
       "                                      ..\n",
       "Zanzan                  Ivory Coast    1\n",
       "Zanzibar West           Tanzania       1\n",
       "Zeeland                 Netherlands    1\n",
       "Zhambyl                 Kazakhstan     1\n",
       "Agadez                  Niger          1\n",
       "Name: count, Length: 1197, dtype: int64"
      ]
     },
     "execution_count": 9,
     "metadata": {},
     "output_type": "execute_result"
    }
   ],
   "source": [
    "df[['state', 'country']].value_counts() #on peut faire pareil avec les états"
   ]
  },
  {
   "cell_type": "code",
   "execution_count": 10,
   "id": "3411cba9-344e-4a3e-9971-3c19e2c008aa",
   "metadata": {},
   "outputs": [
    {
     "data": {
      "text/plain": [
       "dtype('float64')"
      ]
     },
     "execution_count": 10,
     "metadata": {},
     "output_type": "execute_result"
    }
   ],
   "source": [
    "df['longitude'].dtype"
   ]
  },
  {
   "cell_type": "markdown",
   "id": "c348bd55-0134-447c-b57d-cfa698b50273",
   "metadata": {},
   "source": [
    "Les éléments de chaque colonne (sans compter l'index) sont de type chaîne de caractère sauf la longitude et la latitude qui sont des flotants."
   ]
  },
  {
   "cell_type": "markdown",
   "id": "292b2567-218c-4546-9b60-8d015864ee3f",
   "metadata": {},
   "source": [
    "## Analyse de la table"
   ]
  },
  {
   "cell_type": "code",
   "execution_count": 11,
   "id": "a7853555-b457-4670-9730-6a831e4e4058",
   "metadata": {},
   "outputs": [
    {
     "data": {
      "text/html": [
       "<div>\n",
       "<style scoped>\n",
       "    .dataframe tbody tr th:only-of-type {\n",
       "        vertical-align: middle;\n",
       "    }\n",
       "\n",
       "    .dataframe tbody tr th {\n",
       "        vertical-align: top;\n",
       "    }\n",
       "\n",
       "    .dataframe thead th {\n",
       "        text-align: right;\n",
       "    }\n",
       "</style>\n",
       "<table border=\"1\" class=\"dataframe\">\n",
       "  <thead>\n",
       "    <tr style=\"text-align: right;\">\n",
       "      <th></th>\n",
       "      <th>city_name</th>\n",
       "      <th>country</th>\n",
       "      <th>state</th>\n",
       "      <th>iso2</th>\n",
       "      <th>iso3</th>\n",
       "      <th>latitude</th>\n",
       "      <th>longitude</th>\n",
       "      <th>hemisphère</th>\n",
       "      <th>greenwich</th>\n",
       "    </tr>\n",
       "    <tr>\n",
       "      <th>station_id</th>\n",
       "      <th></th>\n",
       "      <th></th>\n",
       "      <th></th>\n",
       "      <th></th>\n",
       "      <th></th>\n",
       "      <th></th>\n",
       "      <th></th>\n",
       "      <th></th>\n",
       "      <th></th>\n",
       "    </tr>\n",
       "  </thead>\n",
       "  <tbody>\n",
       "    <tr>\n",
       "      <th>60620</th>\n",
       "      <td>Adrar</td>\n",
       "      <td>Algeria</td>\n",
       "      <td>Adrar</td>\n",
       "      <td>DZ</td>\n",
       "      <td>DZA</td>\n",
       "      <td>27.869990</td>\n",
       "      <td>-0.289967</td>\n",
       "      <td>nord</td>\n",
       "      <td>ouest</td>\n",
       "    </tr>\n",
       "    <tr>\n",
       "      <th>60571</th>\n",
       "      <td>Béchar</td>\n",
       "      <td>Algeria</td>\n",
       "      <td>Béchar</td>\n",
       "      <td>DZ</td>\n",
       "      <td>DZA</td>\n",
       "      <td>31.611105</td>\n",
       "      <td>-2.230004</td>\n",
       "      <td>nord</td>\n",
       "      <td>ouest</td>\n",
       "    </tr>\n",
       "    <tr>\n",
       "      <th>60549</th>\n",
       "      <td>Sidi Bel Abbès</td>\n",
       "      <td>Algeria</td>\n",
       "      <td>Sidi Bel Abbès</td>\n",
       "      <td>DZ</td>\n",
       "      <td>DZA</td>\n",
       "      <td>35.190344</td>\n",
       "      <td>-0.639972</td>\n",
       "      <td>nord</td>\n",
       "      <td>ouest</td>\n",
       "    </tr>\n",
       "    <tr>\n",
       "      <th>60531</th>\n",
       "      <td>Tlemcen</td>\n",
       "      <td>Algeria</td>\n",
       "      <td>Tlemcen</td>\n",
       "      <td>DZ</td>\n",
       "      <td>DZA</td>\n",
       "      <td>34.890414</td>\n",
       "      <td>-1.320008</td>\n",
       "      <td>nord</td>\n",
       "      <td>ouest</td>\n",
       "    </tr>\n",
       "    <tr>\n",
       "      <th>91765</th>\n",
       "      <td>Pago Pago</td>\n",
       "      <td>American Samoa</td>\n",
       "      <td>NaN</td>\n",
       "      <td>AS</td>\n",
       "      <td>ASM</td>\n",
       "      <td>-14.276610</td>\n",
       "      <td>-170.706645</td>\n",
       "      <td>sud</td>\n",
       "      <td>ouest</td>\n",
       "    </tr>\n",
       "  </tbody>\n",
       "</table>\n",
       "</div>"
      ],
      "text/plain": [
       "                 city_name         country           state iso2 iso3  \\\n",
       "station_id                                                             \n",
       "60620                Adrar         Algeria           Adrar   DZ  DZA   \n",
       "60571               Béchar         Algeria          Béchar   DZ  DZA   \n",
       "60549       Sidi Bel Abbès         Algeria  Sidi Bel Abbès   DZ  DZA   \n",
       "60531              Tlemcen         Algeria         Tlemcen   DZ  DZA   \n",
       "91765            Pago Pago  American Samoa             NaN   AS  ASM   \n",
       "\n",
       "             latitude   longitude hemisphère greenwich  \n",
       "station_id                                              \n",
       "60620       27.869990   -0.289967       nord     ouest  \n",
       "60571       31.611105   -2.230004       nord     ouest  \n",
       "60549       35.190344   -0.639972       nord     ouest  \n",
       "60531       34.890414   -1.320008       nord     ouest  \n",
       "91765      -14.276610 -170.706645        sud     ouest  "
      ]
     },
     "execution_count": 11,
     "metadata": {},
     "output_type": "execute_result"
    }
   ],
   "source": [
    "df['hemisphère'] = 'nord'\n",
    "df.loc[df['latitude']<0, 'hemisphère'] = 'sud'\n",
    "df['greenwich'] = 'est'\n",
    "df.loc[df['longitude']<0, 'greenwich'] = 'ouest'\n",
    "df.head()\n",
    "df[df['hemisphère'] == 'sud'].head()\n",
    "df[df['greenwich'] == 'ouest'].head()"
   ]
  },
  {
   "cell_type": "markdown",
   "id": "fdaf3b9c-7b9f-40f4-ac90-e8c3ce0f3882",
   "metadata": {},
   "source": [
    "Ajoute une colonne à la dataframe nous permettant de savoir si la ville se trouve dans l'hemisphère nord ou dans l'hémisphère sud, à l'est ou à l'ouest de greenwish"
   ]
  },
  {
   "cell_type": "code",
   "execution_count": 12,
   "id": "fc25ffbc-3d22-45cf-9d92-806245e820b0",
   "metadata": {},
   "outputs": [
    {
     "data": {
      "text/html": [
       "<div>\n",
       "<style scoped>\n",
       "    .dataframe tbody tr th:only-of-type {\n",
       "        vertical-align: middle;\n",
       "    }\n",
       "\n",
       "    .dataframe tbody tr th {\n",
       "        vertical-align: top;\n",
       "    }\n",
       "\n",
       "    .dataframe thead th {\n",
       "        text-align: right;\n",
       "    }\n",
       "</style>\n",
       "<table border=\"1\" class=\"dataframe\">\n",
       "  <thead>\n",
       "    <tr style=\"text-align: right;\">\n",
       "      <th></th>\n",
       "      <th>latitude</th>\n",
       "      <th>longitude</th>\n",
       "    </tr>\n",
       "    <tr>\n",
       "      <th>country</th>\n",
       "      <th></th>\n",
       "      <th></th>\n",
       "    </tr>\n",
       "  </thead>\n",
       "  <tbody>\n",
       "    <tr>\n",
       "      <th>Afghanistan</th>\n",
       "      <td>35.801037</td>\n",
       "      <td>68.318248</td>\n",
       "    </tr>\n",
       "    <tr>\n",
       "      <th>Albania</th>\n",
       "      <td>41.693098</td>\n",
       "      <td>19.923679</td>\n",
       "    </tr>\n",
       "    <tr>\n",
       "      <th>Algeria</th>\n",
       "      <td>35.231670</td>\n",
       "      <td>3.696405</td>\n",
       "    </tr>\n",
       "    <tr>\n",
       "      <th>American Samoa</th>\n",
       "      <td>-14.276610</td>\n",
       "      <td>-170.706645</td>\n",
       "    </tr>\n",
       "    <tr>\n",
       "      <th>Andorra</th>\n",
       "      <td>42.500001</td>\n",
       "      <td>1.516486</td>\n",
       "    </tr>\n",
       "    <tr>\n",
       "      <th>...</th>\n",
       "      <td>...</td>\n",
       "      <td>...</td>\n",
       "    </tr>\n",
       "    <tr>\n",
       "      <th>Wallis and Futuna</th>\n",
       "      <td>-13.282042</td>\n",
       "      <td>-176.174022</td>\n",
       "    </tr>\n",
       "    <tr>\n",
       "      <th>Western Sahara</th>\n",
       "      <td>27.154512</td>\n",
       "      <td>-13.195392</td>\n",
       "    </tr>\n",
       "    <tr>\n",
       "      <th>Yemen</th>\n",
       "      <td>15.353857</td>\n",
       "      <td>44.205884</td>\n",
       "    </tr>\n",
       "    <tr>\n",
       "      <th>Zambia</th>\n",
       "      <td>-14.281757</td>\n",
       "      <td>28.249996</td>\n",
       "    </tr>\n",
       "    <tr>\n",
       "      <th>Zimbabwe</th>\n",
       "      <td>-18.938703</td>\n",
       "      <td>30.932365</td>\n",
       "    </tr>\n",
       "  </tbody>\n",
       "</table>\n",
       "<p>216 rows × 2 columns</p>\n",
       "</div>"
      ],
      "text/plain": [
       "                    latitude   longitude\n",
       "country                                 \n",
       "Afghanistan        35.801037   68.318248\n",
       "Albania            41.693098   19.923679\n",
       "Algeria            35.231670    3.696405\n",
       "American Samoa    -14.276610 -170.706645\n",
       "Andorra            42.500001    1.516486\n",
       "...                      ...         ...\n",
       "Wallis and Futuna -13.282042 -176.174022\n",
       "Western Sahara     27.154512  -13.195392\n",
       "Yemen              15.353857   44.205884\n",
       "Zambia            -14.281757   28.249996\n",
       "Zimbabwe          -18.938703   30.932365\n",
       "\n",
       "[216 rows x 2 columns]"
      ]
     },
     "execution_count": 12,
     "metadata": {},
     "output_type": "execute_result"
    }
   ],
   "source": [
    "df1 = df[['country', 'latitude', 'longitude']].groupby(by='country')\n",
    "df1[['latitude', 'longitude']].mean()"
   ]
  },
  {
   "cell_type": "markdown",
   "id": "79b87a8e-0983-41b3-b89f-65a16382b22c",
   "metadata": {},
   "source": [
    "Pour avoir la latitude et la longitude moyenne de chaque pays"
   ]
  },
  {
   "cell_type": "markdown",
   "id": "1757ed54-72da-48d9-a977-290615da7143",
   "metadata": {},
   "source": [
    "J'ai également pensé à réaliser une sorte de quadrillage pour y représenter chaque ville en fonction de sa latitude et de sa longitude mais n'y suis pas parvenue."
   ]
  }
 ],
 "metadata": {
  "kernelspec": {
   "display_name": "Python 3 (ipykernel)",
   "language": "python",
   "name": "python3"
  },
  "language_info": {
   "codemirror_mode": {
    "name": "ipython",
    "version": 3
   },
   "file_extension": ".py",
   "mimetype": "text/x-python",
   "name": "python",
   "nbconvert_exporter": "python",
   "pygments_lexer": "ipython3",
   "version": "3.12.4"
  }
 },
 "nbformat": 4,
 "nbformat_minor": 5
}
